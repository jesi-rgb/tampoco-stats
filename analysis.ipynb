{
 "cells": [
  {
   "cell_type": "code",
   "execution_count": 1,
   "metadata": {},
   "outputs": [],
   "source": [
    "import pandas as pd\n",
    "import scipy.stats as stats\n",
    "import numpy as np\n"
   ]
  },
  {
   "cell_type": "code",
   "execution_count": 2,
   "metadata": {},
   "outputs": [],
   "source": [
    "data = pd.read_csv(\"data-tampoco.csv\")\n",
    "significance = 0.05"
   ]
  },
  {
   "cell_type": "code",
   "execution_count": 3,
   "metadata": {},
   "outputs": [
    {
     "data": {
      "text/html": [
       "<div>\n",
       "<style scoped>\n",
       "    .dataframe tbody tr th:only-of-type {\n",
       "        vertical-align: middle;\n",
       "    }\n",
       "\n",
       "    .dataframe tbody tr th {\n",
       "        vertical-align: top;\n",
       "    }\n",
       "\n",
       "    .dataframe thead th {\n",
       "        text-align: right;\n",
       "    }\n",
       "</style>\n",
       "<table border=\"1\" class=\"dataframe\">\n",
       "  <thead>\n",
       "    <tr style=\"text-align: right;\">\n",
       "      <th></th>\n",
       "      <th>Ciudad</th>\n",
       "      <th>CCiudad</th>\n",
       "      <th>Genero</th>\n",
       "      <th>CGenero</th>\n",
       "      <th>Edad</th>\n",
       "      <th>CEdad</th>\n",
       "      <th>Escolaridad</th>\n",
       "      <th>CEscolaridad</th>\n",
       "      <th>Usos</th>\n",
       "      <th>CUsos</th>\n",
       "    </tr>\n",
       "  </thead>\n",
       "  <tbody>\n",
       "    <tr>\n",
       "      <th>0</th>\n",
       "      <td>CDMX</td>\n",
       "      <td>1</td>\n",
       "      <td>F</td>\n",
       "      <td>1</td>\n",
       "      <td>A</td>\n",
       "      <td>2</td>\n",
       "      <td>3</td>\n",
       "      <td>3</td>\n",
       "      <td>C</td>\n",
       "      <td>1</td>\n",
       "    </tr>\n",
       "    <tr>\n",
       "      <th>1</th>\n",
       "      <td>CDMX</td>\n",
       "      <td>1</td>\n",
       "      <td>F</td>\n",
       "      <td>1</td>\n",
       "      <td>A</td>\n",
       "      <td>2</td>\n",
       "      <td>3</td>\n",
       "      <td>3</td>\n",
       "      <td>C</td>\n",
       "      <td>1</td>\n",
       "    </tr>\n",
       "    <tr>\n",
       "      <th>2</th>\n",
       "      <td>CDMX</td>\n",
       "      <td>1</td>\n",
       "      <td>F</td>\n",
       "      <td>1</td>\n",
       "      <td>A</td>\n",
       "      <td>2</td>\n",
       "      <td>3</td>\n",
       "      <td>3</td>\n",
       "      <td>C</td>\n",
       "      <td>1</td>\n",
       "    </tr>\n",
       "    <tr>\n",
       "      <th>3</th>\n",
       "      <td>CDMX</td>\n",
       "      <td>1</td>\n",
       "      <td>F</td>\n",
       "      <td>1</td>\n",
       "      <td>A</td>\n",
       "      <td>2</td>\n",
       "      <td>3</td>\n",
       "      <td>3</td>\n",
       "      <td>C</td>\n",
       "      <td>1</td>\n",
       "    </tr>\n",
       "    <tr>\n",
       "      <th>4</th>\n",
       "      <td>CDMX</td>\n",
       "      <td>1</td>\n",
       "      <td>F</td>\n",
       "      <td>1</td>\n",
       "      <td>A</td>\n",
       "      <td>2</td>\n",
       "      <td>3</td>\n",
       "      <td>3</td>\n",
       "      <td>C</td>\n",
       "      <td>1</td>\n",
       "    </tr>\n",
       "    <tr>\n",
       "      <th>...</th>\n",
       "      <td>...</td>\n",
       "      <td>...</td>\n",
       "      <td>...</td>\n",
       "      <td>...</td>\n",
       "      <td>...</td>\n",
       "      <td>...</td>\n",
       "      <td>...</td>\n",
       "      <td>...</td>\n",
       "      <td>...</td>\n",
       "      <td>...</td>\n",
       "    </tr>\n",
       "    <tr>\n",
       "      <th>458</th>\n",
       "      <td>Montevideo</td>\n",
       "      <td>3</td>\n",
       "      <td>F</td>\n",
       "      <td>1</td>\n",
       "      <td>M</td>\n",
       "      <td>3</td>\n",
       "      <td>2</td>\n",
       "      <td>2</td>\n",
       "      <td>N</td>\n",
       "      <td>2</td>\n",
       "    </tr>\n",
       "    <tr>\n",
       "      <th>459</th>\n",
       "      <td>Montevideo</td>\n",
       "      <td>3</td>\n",
       "      <td>F</td>\n",
       "      <td>1</td>\n",
       "      <td>M</td>\n",
       "      <td>3</td>\n",
       "      <td>2</td>\n",
       "      <td>2</td>\n",
       "      <td>N</td>\n",
       "      <td>2</td>\n",
       "    </tr>\n",
       "    <tr>\n",
       "      <th>460</th>\n",
       "      <td>Montevideo</td>\n",
       "      <td>3</td>\n",
       "      <td>F</td>\n",
       "      <td>1</td>\n",
       "      <td>M</td>\n",
       "      <td>3</td>\n",
       "      <td>1</td>\n",
       "      <td>1</td>\n",
       "      <td>N</td>\n",
       "      <td>2</td>\n",
       "    </tr>\n",
       "    <tr>\n",
       "      <th>461</th>\n",
       "      <td>Montevideo</td>\n",
       "      <td>3</td>\n",
       "      <td>H</td>\n",
       "      <td>2</td>\n",
       "      <td>M</td>\n",
       "      <td>3</td>\n",
       "      <td>2</td>\n",
       "      <td>2</td>\n",
       "      <td>N</td>\n",
       "      <td>2</td>\n",
       "    </tr>\n",
       "    <tr>\n",
       "      <th>462</th>\n",
       "      <td>Montevideo</td>\n",
       "      <td>3</td>\n",
       "      <td>H</td>\n",
       "      <td>2</td>\n",
       "      <td>M</td>\n",
       "      <td>3</td>\n",
       "      <td>2</td>\n",
       "      <td>2</td>\n",
       "      <td>N</td>\n",
       "      <td>2</td>\n",
       "    </tr>\n",
       "  </tbody>\n",
       "</table>\n",
       "<p>463 rows × 10 columns</p>\n",
       "</div>"
      ],
      "text/plain": [
       "         Ciudad  CCiudad Genero  CGenero Edad  CEdad  Escolaridad  \\\n",
       "0          CDMX        1      F        1    A      2            3   \n",
       "1          CDMX        1      F        1    A      2            3   \n",
       "2          CDMX        1      F        1    A      2            3   \n",
       "3          CDMX        1      F        1    A      2            3   \n",
       "4          CDMX        1      F        1    A      2            3   \n",
       "..          ...      ...    ...      ...  ...    ...          ...   \n",
       "458  Montevideo        3      F        1    M      3            2   \n",
       "459  Montevideo        3      F        1    M      3            2   \n",
       "460  Montevideo        3      F        1    M      3            1   \n",
       "461  Montevideo        3      H        2    M      3            2   \n",
       "462  Montevideo        3      H        2    M      3            2   \n",
       "\n",
       "     CEscolaridad Usos  CUsos  \n",
       "0               3    C      1  \n",
       "1               3    C      1  \n",
       "2               3    C      1  \n",
       "3               3    C      1  \n",
       "4               3    C      1  \n",
       "..            ...  ...    ...  \n",
       "458             2    N      2  \n",
       "459             2    N      2  \n",
       "460             1    N      2  \n",
       "461             2    N      2  \n",
       "462             2    N      2  \n",
       "\n",
       "[463 rows x 10 columns]"
      ]
     },
     "execution_count": 3,
     "metadata": {},
     "output_type": "execute_result"
    }
   ],
   "source": [
    "data"
   ]
  },
  {
   "cell_type": "code",
   "execution_count": 4,
   "metadata": {},
   "outputs": [],
   "source": [
    "def print_analysis(p):\n",
    "    if p < significance:\n",
    "        print(\n",
    "            \"👎🏻 Rechazamos la hipótesis nula, hay una diferencia significativa entre las distribuciones\"\n",
    "        )\n",
    "    else:\n",
    "        print(\n",
    "            \"👍🏻 Aceptamos la hipótesis nula, no existe una diferencia significativa entre las distribuciones\"\n",
    "        )\n"
   ]
  },
  {
   "cell_type": "code",
   "execution_count": 5,
   "metadata": {},
   "outputs": [],
   "source": [
    "columns = [\"CCiudad\", \"CEdad\", \"CEscolaridad\"]\n",
    "splitting_cols = {\n",
    "    \"CUsos\": np.unique(data[\"CUsos\"]),\n",
    "    \"CGenero\": np.unique(data[\"CGenero\"]),\n",
    "}"
   ]
  },
  {
   "cell_type": "code",
   "execution_count": 6,
   "metadata": {},
   "outputs": [
    {
     "name": "stdout",
     "output_type": "stream",
     "text": [
      "split_col='CUsos'\n",
      "c='CCiudad'\n",
      "stat=26947.0\n",
      "pvalue=0.2643823163555362\n",
      "👍🏻 Aceptamos la hipótesis nula, no existe una diferencia significativa entre las distribuciones\n",
      "\n",
      "split_col='CGenero'\n",
      "c='CCiudad'\n",
      "stat=26636.0\n",
      "pvalue=0.44405088884988786\n",
      "👍🏻 Aceptamos la hipótesis nula, no existe una diferencia significativa entre las distribuciones\n",
      "\n",
      "split_col='CUsos'\n",
      "c='CEdad'\n",
      "stat=27033.0\n",
      "pvalue=0.2331659073046456\n",
      "👍🏻 Aceptamos la hipótesis nula, no existe una diferencia significativa entre las distribuciones\n",
      "\n",
      "split_col='CGenero'\n",
      "c='CEdad'\n",
      "stat=25694.0\n",
      "pvalue=0.9554065734033022\n",
      "👍🏻 Aceptamos la hipótesis nula, no existe una diferencia significativa entre las distribuciones\n",
      "\n",
      "split_col='CUsos'\n",
      "c='CEscolaridad'\n",
      "stat=21509.5\n",
      "pvalue=0.0026376877759814003\n",
      "👎🏻 Rechazamos la hipótesis nula, hay una diferencia significativa entre las distribuciones\n",
      "\n",
      "split_col='CGenero'\n",
      "c='CEscolaridad'\n",
      "stat=24970.5\n",
      "pvalue=0.6231559577623619\n",
      "👍🏻 Aceptamos la hipótesis nula, no existe una diferencia significativa entre las distribuciones\n",
      "\n"
     ]
    }
   ],
   "source": [
    "for c in columns:\n",
    "    for split_col, cases in splitting_cols.items():\n",
    "        split_cases = [data[data[split_col] == case][c] for case in cases]\n",
    "\n",
    "        stat, pvalue = stats.mannwhitneyu(split_cases[0], split_cases[1])\n",
    "        print(f\"{split_col=}\")\n",
    "        print(f\"{c=}\")\n",
    "        print(f\"{stat=}\")\n",
    "        print(f\"{pvalue=}\")\n",
    "        print_analysis(pvalue)\n",
    "        print()\n"
   ]
  },
  {
   "cell_type": "code",
   "execution_count": 7,
   "metadata": {},
   "outputs": [
    {
     "name": "stdout",
     "output_type": "stream",
     "text": [
      "MannwhitneyuResult(statistic=21509.5, pvalue=0.0013188438879907002)\n",
      "👎🏻 Rechazamos la hipótesis nula, hay una diferencia significativa entre las distribuciones\n"
     ]
    }
   ],
   "source": [
    "# investigate about the CUsos -> CEscolaridad\n",
    "\n",
    "use_1_school = data[data[\"CUsos\"] == 1][\"CEscolaridad\"]\n",
    "use_2_school = data[data[\"CUsos\"] == 2][\"CEscolaridad\"]\n",
    "\n",
    "use_school_test = stats.mannwhitneyu(use_1_school, use_2_school, alternative=\"less\")\n",
    "print(use_school_test)\n",
    "print_analysis(use_school_test.pvalue)"
   ]
  },
  {
   "cell_type": "markdown",
   "metadata": {},
   "source": [
    "Podemos inferir de este conjunto de tests que:\n",
    "1. Hay una diferencia significativa entre la distribución del nivel educativo y el uso de la palabra tampoco.\n",
    "2. Estocásticamente hablando, la distribución del nivel educativo entre las personas que usan tampoco de forma 1 (C) es menor que la distribución del nivel educativo entre las personas que la utilizan del modo 2 (N).\n",
    "   1. Es decir: en general, las personas con un nivel educativo más alto tienden a utilizar el modo 2 (N) en lugar del 1 (C)."
   ]
  },
  {
   "cell_type": "code",
   "execution_count": 8,
   "metadata": {},
   "outputs": [
    {
     "name": "stdout",
     "output_type": "stream",
     "text": [
      "MannwhitneyuResult(statistic=26362.5, pvalue=0.45292125619466017)\n",
      "👍🏻 Aceptamos la hipótesis nula, no existe una diferencia significativa entre las distribuciones\n"
     ]
    }
   ],
   "source": [
    "# investigate missing combination Gender -> Use\n",
    "\n",
    "use_1 = data[data[\"CUsos\"] == 1][\"CGenero\"]\n",
    "use_2 = data[data[\"CUsos\"] == 2][\"CGenero\"]\n",
    "\n",
    "use_gender_test = stats.mannwhitneyu(use_1, use_2)\n",
    "print(use_gender_test)\n",
    "print_analysis(use_gender_test.pvalue)\n"
   ]
  },
  {
   "cell_type": "code",
   "execution_count": 9,
   "metadata": {},
   "outputs": [],
   "source": [
    "def print_analysis_wilcox(pvalue):\n",
    "    if pvalue < significance:\n",
    "        print(\"👎🏻 Rechazamos la hipótesis nula, la mediana de diferencias ≠ 0\")\n",
    "    else:\n",
    "        print(\"👍🏻 Aceptamos la hipótesis nula, la mediana de diferencias ≈ 0\")\n",
    "\n",
    "\n",
    "def print_analysis_generic(pvalue):\n",
    "    if pvalue < significance:\n",
    "        print(\"👎🏻 Rechazamos la hipótesis nula\")\n",
    "    else:\n",
    "        print(\"👍🏻 Aceptamos la hipótesis nula\")\n"
   ]
  },
  {
   "cell_type": "code",
   "execution_count": 10,
   "metadata": {},
   "outputs": [
    {
     "name": "stdout",
     "output_type": "stream",
     "text": [
      "CCiudad 10947.0 4.3631627104847785e-12\n",
      "👎🏻 Rechazamos la hipótesis nula, la mediana de diferencias ≠ 0\n",
      "CGenero 9412.5 2.5396285894708567e-10\n",
      "👎🏻 Rechazamos la hipótesis nula, la mediana de diferencias ≠ 0\n",
      "CEdad 14391.0 3.543292558294026e-07\n",
      "👎🏻 Rechazamos la hipótesis nula, la mediana de diferencias ≠ 0\n",
      "CEscolaridad 6902.0 1.5208508948312462e-27\n",
      "👎🏻 Rechazamos la hipótesis nula, la mediana de diferencias ≠ 0\n"
     ]
    }
   ],
   "source": [
    "# Age -> Education\n",
    "cols = [\"CCiudad\", \"CGenero\", \"CEdad\", \"CEscolaridad\"]\n",
    "\n",
    "for c in cols:\n",
    "    wilc = stats.wilcoxon(data[\"CUsos\"], data[c])\n",
    "    print(c, wilc.statistic, wilc.pvalue)\n",
    "    print_analysis_wilcox(wilc.pvalue)\n"
   ]
  },
  {
   "cell_type": "code",
   "execution_count": 25,
   "metadata": {},
   "outputs": [
    {
     "name": "stdout",
     "output_type": "stream",
     "text": [
      "CCiudad 2.1815813552423893e-12\n",
      "👎🏻 Rechazamos la hipótesis nula\n",
      "\n",
      "CGenero 0.9999999998730186\n",
      "👍🏻 Aceptamos la hipótesis nula\n",
      "\n",
      "CEdad 1.771646279147013e-07\n",
      "👎🏻 Rechazamos la hipótesis nula\n",
      "\n",
      "CEscolaridad 7.604254474156231e-28\n",
      "👎🏻 Rechazamos la hipótesis nula\n",
      "\n"
     ]
    }
   ],
   "source": [
    "# Age -> Education\n",
    "cols = [\"CCiudad\", \"CGenero\", \"CEdad\", \"CEscolaridad\"]\n",
    "\n",
    "for c in cols:\n",
    "    wilc = stats.wilcoxon(data[\"CUsos\"], data[c], alternative=\"less\")\n",
    "    print(c, wilc.pvalue)\n",
    "    print_analysis_generic(wilc.pvalue)\n",
    "    print()"
   ]
  },
  {
   "cell_type": "code",
   "execution_count": null,
   "metadata": {},
   "outputs": [],
   "source": []
  }
 ],
 "metadata": {
  "kernelspec": {
   "display_name": "Python 3",
   "language": "python",
   "name": "python3"
  },
  "language_info": {
   "codemirror_mode": {
    "name": "ipython",
    "version": 3
   },
   "file_extension": ".py",
   "mimetype": "text/x-python",
   "name": "python",
   "nbconvert_exporter": "python",
   "pygments_lexer": "ipython3",
   "version": "3.10.10"
  },
  "orig_nbformat": 4
 },
 "nbformat": 4,
 "nbformat_minor": 2
}
